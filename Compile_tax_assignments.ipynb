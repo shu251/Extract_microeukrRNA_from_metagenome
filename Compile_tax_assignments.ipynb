{
 "cells": [
  {
   "cell_type": "markdown",
   "metadata": {},
   "source": [
    "## Compile uclust taxonomy assignment output"
   ]
  },
  {
   "cell_type": "code",
   "execution_count": 1,
   "metadata": {
    "collapsed": false
   },
   "outputs": [
    {
     "name": "stderr",
     "output_type": "stream",
     "text": [
      "Warning message:\n",
      "“package ‘reshape2’ was built under R version 3.3.2”Warning message:\n",
      "“package ‘ggplot2’ was built under R version 3.3.2”Warning message:\n",
      "“package ‘UpSetR’ was built under R version 3.3.2”\n",
      "Attaching package: ‘dplyr’\n",
      "\n",
      "The following objects are masked from ‘package:stats’:\n",
      "\n",
      "    filter, lag\n",
      "\n",
      "The following objects are masked from ‘package:base’:\n",
      "\n",
      "    intersect, setdiff, setequal, union\n",
      "\n"
     ]
    }
   ],
   "source": [
    "library(reshape2);library(ggplot2);library(UpSetR);library(dplyr)\n",
    "options(repr.plot.width = 4, repr.plot.height = 3) #set plot size output "
   ]
  },
  {
   "cell_type": "markdown",
   "metadata": {},
   "source": [
    "### Place output taxonomy assignment .txt files into one directory and run this R script in the same directory"
   ]
  },
  {
   "cell_type": "code",
   "execution_count": null,
   "metadata": {
    "collapsed": true
   },
   "outputs": [],
   "source": [
    "#rm(count_table)\n",
    "#rm(tax_import)\n",
    "tax_files<-list.files(pattern=\".txt\") # This line finds all file ending with .txt\n",
    "#\n",
    "for (i in tax_files){\n",
    "    tax_import<-read.delim(i, header=FALSE, sep=\"\\t\", fill=TRUE, na.strings=\".\", stringsAsFactors=FALSE) # reads in each file # test this out with your specific input files, as it may require different parameters.\n",
    "    names<-unlist(strsplit(i,\"_\")) # parses file name\n",
    "    tax_import$Sample<-names[1] # replace column 1 header with first part of file name\n",
    "    tax_import$SILVA<-names[2]\n",
    "    tax_import$Count<-1 # add a count of n=1 for each rRNA sequence\n",
    "    if (!exists(\"count_table\")){\n",
    "        count_table<-tax_import # create the final count table\n",
    "    } else {\n",
    "        count_table<-rbind(count_table, tax_import)\n",
    "    }\n",
    "    rm(tax_import) # remove excess df\n",
    "}\n",
    "head(count_table)"
   ]
  },
  {
   "cell_type": "code",
   "execution_count": null,
   "metadata": {
    "collapsed": false
   },
   "outputs": [],
   "source": [
    "unique(count_table$Sample) # check sample IDs\n",
    "unique(count_table$SILVA) # check if count came from SILVA database LSU or SSU\n",
    "save(count_table, file=\"rawcount_table.RData\")"
   ]
  },
  {
   "cell_type": "code",
   "execution_count": null,
   "metadata": {
    "collapsed": false
   },
   "outputs": [],
   "source": [
    "#Add count column and start getting information on taxonomy counts\n",
    "load(\"rawcount_table.RData\")\n",
    "df2<-aggregate(count_table$Count, by=list(Taxonomy=df1$V2, Sample=df1$Sample, SILVA=df1$SILVA),sum)\n",
    "#head(df2)"
   ]
  },
  {
   "cell_type": "code",
   "execution_count": null,
   "metadata": {
    "collapsed": false
   },
   "outputs": [],
   "source": [
    "df2$Tax2 <- gsub(\"D_.__\", \"\", df2$Taxonomy)\n",
    "head(df2)"
   ]
  },
  {
   "cell_type": "code",
   "execution_count": null,
   "metadata": {
    "collapsed": false
   },
   "outputs": [],
   "source": [
    "x<-colsplit(df2$Tax2, \";\", c(\"Level1\",\"Level2\",\"Level3\",\"Level4\",\"Level5\",\"Level6\", \"Level7\",\"Level8\",\"Level9\", \"Level10\", \"Level11\", \"Level12\"))"
   ]
  },
  {
   "cell_type": "code",
   "execution_count": null,
   "metadata": {
    "collapsed": true
   },
   "outputs": [],
   "source": [
    "# Sum counts to different taxonomy levels\n",
    "x2<-data.frame(df2,x)\n",
    "Domain<-aggregate(x2$x, by=list(domain=x2$Level1, Sample=x2$Sample),sum)\n",
    "Lev2<-aggregate(x2$x, by=list(domain=x2$Level1, Lev2=x2$Level2, Sample=x2$Sample),sum)\n",
    "Lev3<-aggregate(x2$x, by=list(domain=x2$Level1, Lev2=x2$Level2, Lev3=x2$Level3, Sample=x2$Sample),sum)"
   ]
  },
  {
   "cell_type": "code",
   "execution_count": null,
   "metadata": {
    "collapsed": false
   },
   "outputs": [],
   "source": [
    "head(Domain);head(Lev2); head(Lev3)"
   ]
  },
  {
   "cell_type": "code",
   "execution_count": null,
   "metadata": {
    "collapsed": false
   },
   "outputs": [],
   "source": [
    "## Option to alter sample names (i.e. re-name or compile replicate samples)\n",
    "# Domain$Loihi<-Domain$Sample\n",
    "# pele<-c(\"PP1\", \"PP2\", \"PP5\")\n",
    "# Domain$Loihi[Domain$Sample %in% pele]= \"PP\"\n",
    "# Domain_loihi<-aggregate(Domain$x, by=list(domain=Domain$domain, Loihi=Domain$Loihi),sum)\n",
    "# head(Domain_loihi)"
   ]
  },
  {
   "cell_type": "code",
   "execution_count": null,
   "metadata": {
    "collapsed": false
   },
   "outputs": [],
   "source": [
    "# use Domain df for each sample separate\n",
    "# or Domain_loihi df for CTD versus Pele Pit\n",
    "domain<-ggplot(Domain, aes(x=Sample, y=x, fill=domain))+\n",
    "    geom_bar(stat=\"identity\", position=\"stack\",color=\"white\")+\n",
    "    theme_minimal()+\n",
    "    labs(x=\"\", title=\"\", y=\"Total rRNA reads\")+ # add title\n",
    "    scale_fill_manual(values=c(\"#66c2a5\",\"#fc8d62\",\"#8da0cb\",\"#e78ac3\"))+\n",
    "    theme(panel.grid.major = element_blank(), panel.grid.minor = element_blank(),\n",
    "panel.background = element_blank(), axis.line = element_line(colour = \"black\"), axis.text=element_text(color=\"black\"))+\n",
    "    scale_y_continuous(expand = c(0, 0))\n",
    "#\n",
    "domain\n",
    "#svg(\"domain.svg\", w=4.5, h=3.5); domain ; dev.off() # save figure"
   ]
  },
  {
   "cell_type": "code",
   "execution_count": null,
   "metadata": {
    "collapsed": false
   },
   "outputs": [],
   "source": [
    "summaryDomain <- Domain %>%\n",
    "    group_by(Sample) %>%\n",
    "    mutate(RelAbun=100*(x/sum(x))) %>%\n",
    "    as.data.frame\n",
    "#summaryDomain\n",
    "summary<-dcast(summaryDomain[c(1:2,4)], Sample~domain)\n",
    "#head(summary)\n",
    "write.csv(summary, file=\"tmp.csv\") # get count table at domain level"
   ]
  },
  {
   "cell_type": "code",
   "execution_count": null,
   "metadata": {
    "collapsed": false
   },
   "outputs": [],
   "source": [
    "lev2_barplot<-ggplot(Lev2, aes(x=Sample, y=x, fill=Lev2))+\n",
    "    geom_bar(stat=\"identity\", position=\"stack\")+\n",
    "    theme_minimal()+\n",
    "    theme(panel.grid.major = element_blank(), panel.grid.minor = element_blank(),\n",
    "panel.background = element_blank(), axis.line = element_line(colour = \"black\"), axis.text=element_text(color=\"black\"))+\n",
    "    scale_y_continuous(expand = c(0, 0))+\n",
    "    labs(x=\"\", title=\"\", y=\"Total rRNA reads\")+\n",
    "#    scale_fill_manual(values=c(\"#66c2a5\",\"#fc8d62\",\"#8da0cb\",\"#e78ac3\"))+ # option to add colors\n",
    "    NULL\n",
    "#lev2_barplot\n",
    "lev3_barplot<-ggplot(Lev3, aes(x=Sample, y=x, fill=Lev3))+\n",
    "    geom_bar(stat=\"identity\", position=\"stack\")+\n",
    "    theme_minimal()+\n",
    "    theme(panel.grid.major = element_blank(), panel.grid.minor = element_blank(),\n",
    "panel.background = element_blank(), axis.line = element_line(colour = \"black\"), axis.text=element_text(color=\"black\"))+\n",
    "    scale_y_continuous(expand = c(0, 0))+\n",
    "    labs(x=\"\", title=\"\", y=\"Total rRNA reads\")+\n",
    "#    scale_fill_manual(values=c(\"#66c2a5\",\"#fc8d62\",\"#8da0cb\",\"#e78ac3\"))+ # option to add colors\n",
    "    NULL"
   ]
  },
  {
   "cell_type": "markdown",
   "metadata": {},
   "source": [
    "#### Since I'm more interested in the eukaryotic groups, the below plots and R function work to manually explore the eukaryotic diversity in each sample. First by graphing individual groups and then manually curating the eukaryotic taxonomy list."
   ]
  },
  {
   "cell_type": "code",
   "execution_count": null,
   "metadata": {
    "collapsed": false
   },
   "outputs": [],
   "source": [
    "lev2_barplot %+% subset(Lev2, domain %in% \"Eukaryota\")"
   ]
  },
  {
   "cell_type": "code",
   "execution_count": null,
   "metadata": {
    "collapsed": false
   },
   "outputs": [],
   "source": [
    "lev3_barplot %+% subset(Lev3, Lev2 %in% \"SAR\")"
   ]
  },
  {
   "cell_type": "code",
   "execution_count": null,
   "metadata": {
    "collapsed": false
   },
   "outputs": [],
   "source": [
    "head(x2)\n",
    "write.csv(unique(x2[6:12]),file=\"tmp.csv\")"
   ]
  },
  {
   "cell_type": "code",
   "execution_count": null,
   "metadata": {
    "collapsed": false
   },
   "outputs": [],
   "source": [
    "# Manually curate Level 2 and 3:\n",
    "rename<-function(x){\n",
    "    x$Euk_curation<-x$Level2 # Most names at Level 2 are suitable\n",
    "    x$Euk_curation[x$Level1 != \"Eukaryota\"]=\"Non-euk\"\n",
    "    x$Euk_curation[x$Level2 == \"Incertae Sedis\"]=\"Unannotated\"\n",
    "    x$Euk_curation[x$Level2 == \"\"]=\"Unannotated\"\n",
    "    x$Euk_curation[x$Level3 == \"\"]=\"Unannotated\"\n",
    "    x$Euk_curation[x$Level2 == \"Centrohelida\"]=\"Other\"\n",
    "#Stramenopile\n",
    "    x$Euk_curation[x$Level3 == \"Stramenopiles\"]=\"Stramenopiles-Other\"\n",
    "    x$Euk_curation[x$Level4 == \"Diatomea\"]=\"Stramenopiles-Diatomea\"\n",
    "    x$Euk_curation[x$Level4 ==\" Dictyochophyceae\"]=\"Stramenopiles-Dictyochophyceae\"\n",
    "#Alveolata\n",
    "    x$Euk_curation[x$Level3 == \"Alveolata\"]=\"Alveolata-Other\"\n",
    "    x$Euk_curation[x$Level4 == \"Apicomplexa\"]=\"Alveolata-Apicomplexa\"\n",
    "    x$Euk_curation[x$Level4 == \"Ciliophora\"]=\"Alveolata-Ciliophora\"\n",
    "    x$Euk_curation[x$Level4 == \"Dinoflagellata\"]=\"Alveolata-Dinoflagellata\"\n",
    "    x$Euk_curation[x$Level5 ==\" Syndiniales\"]=\"Alveolata-Syndiniales\"\n",
    "#Rhizaria\n",
    "    x$Euk_curation[x$Level3 == \"Rhizaria\"]=\"Rhizaria-Other\"\n",
    "    x$Euk_curation[x$Level4 == \"Cercozoa\"]=\"Rhizaria-Cercozoa\"\n",
    "    x$Euk_curation[x$Level5 ==\" Polycystinea\"]=\"Rhizaria-Polycystinea\"\n",
    "    return(x)\n",
    "}\n",
    "#Other (defined as those groups that are only noted as \"uncultured euk\" and were in VERY low abundance here: centroheilda"
   ]
  },
  {
   "cell_type": "code",
   "execution_count": null,
   "metadata": {
    "collapsed": false
   },
   "outputs": [],
   "source": [
    "tax<-rename(x2)\n",
    "euk_curated_tax<-data.frame(x2,tax)\n",
    "euk_tax<-aggregate(euk_curated_tax$x, by=list(Euk_tax=euk_curated_tax$Euk_curation, Sample=euk_curated_tax$Sample),sum)\n",
    "unique(euk_tax$Euk_tax)"
   ]
  },
  {
   "cell_type": "code",
   "execution_count": null,
   "metadata": {
    "collapsed": true
   },
   "outputs": [],
   "source": [
    "# factor:\n",
    "tax<-c(\"Stramenopiles-Diatomea\",\"Stramenopiles-Other\",\"Alveolata-Apicomplexa\",\"Alveolata-Ciliophora\",\"Alveolata-Dinoflagellata\",\"Alveolata-Other\",\"Rhizaria-Cercozoa\",\"Rhizaria-Other\",\"Amoebozoa\",\"Archaeplastida\",\"Cryptophyceae\",\"Excavata\",\"Haptophyta\",\"Picozoa\",\"Opisthokonta\",\"Other\",\"Non-euk\",\"Unannotated\")\n",
    "color<-c(\"#800026\",\"#e31a1c\",\"#fc4e2a\",\"#fd8d3c\",\"#fed976\",\"#ffffcc\",\"#d9f0a3\",\"#78c679\",\"#238443\",\"#004529\",\"#016c59\",\"#3690c0\",\"#08519c\",\"#8c6bb1\",\"#810f7c\",\"#bdbdbd\",\"#737373\",\"#252525\")\n",
    "euk_tax$tax_order<-factor(euk_tax$Euk_tax, levels=tax)\n",
    "names(color)<-tax"
   ]
  },
  {
   "cell_type": "code",
   "execution_count": null,
   "metadata": {
    "collapsed": false
   },
   "outputs": [],
   "source": [
    "euk<-ggplot(euk_tax, aes(x=Sample, y=x, fill=tax_order))+\n",
    "    geom_bar(stat=\"identity\", position=\"stack\",color=\"white\")+\n",
    "    theme_minimal()+\n",
    "    labs(x=\"\", title=\"\", y=\"Total rRNA reads\")+\n",
    "    scale_fill_manual(values=color)+\n",
    "    theme(panel.grid.major = element_blank(), panel.grid.minor = element_blank(),\n",
    "panel.background = element_blank(), axis.line = element_line(colour = \"black\"), axis.text=element_text(color=\"black\"))+\n",
    "    scale_y_continuous(expand = c(0, 0))\n",
    "#\n",
    "rm<-c(\"Non-euk\", \"Unannotated\")\n",
    "euk %+% subset(euk_tax, !(Euk_tax %in% rm)) # try graphing with out the unannotated tax IDs"
   ]
  },
  {
   "cell_type": "code",
   "execution_count": null,
   "metadata": {
    "collapsed": false
   },
   "outputs": [],
   "source": [
    "svg(\"euk.svg\", w=4.5, h=4.5);euk %+% subset(euk_tax, !(Euk_tax %in% rm)); dev.off() # save plot"
   ]
  },
  {
   "cell_type": "markdown",
   "metadata": {},
   "source": [
    "## Last updated 11-2-2018\n",
    "#### Sarah Hu"
   ]
  },
  {
   "cell_type": "code",
   "execution_count": null,
   "metadata": {
    "collapsed": true
   },
   "outputs": [],
   "source": []
  }
 ],
 "metadata": {
  "kernelspec": {
   "display_name": "R",
   "language": "R",
   "name": "ir"
  },
  "language_info": {
   "codemirror_mode": "r",
   "file_extension": ".r",
   "mimetype": "text/x-r-source",
   "name": "R",
   "pygments_lexer": "r",
   "version": "3.3.1"
  }
 },
 "nbformat": 4,
 "nbformat_minor": 2
}
